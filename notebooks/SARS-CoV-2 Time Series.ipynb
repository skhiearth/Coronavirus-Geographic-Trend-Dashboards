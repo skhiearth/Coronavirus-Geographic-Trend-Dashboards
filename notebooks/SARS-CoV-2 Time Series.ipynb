{
 "cells": [
  {
   "cell_type": "code",
   "execution_count": 1,
   "metadata": {},
   "outputs": [],
   "source": [
    "import pandas as pd\n",
    "\n",
    "confirmed_raw_url = \"https://raw.githubusercontent.com/CSSEGISandData/COVID-19/master/csse_covid_19_data/csse_covid_19_time_series/time_series_19-covid-Confirmed.csv\"\n",
    "deaths_raw_url = \"https://raw.githubusercontent.com/CSSEGISandData/COVID-19/master/csse_covid_19_data/csse_covid_19_time_series/time_series_19-covid-Deaths.csv\"\n",
    "recovered_raw_url = \"https://raw.githubusercontent.com/CSSEGISandData/COVID-19/master/csse_covid_19_data/csse_covid_19_time_series/time_series_19-covid-Recovered.csv\"\n",
    "\n",
    "confirmed_df_raw = pd.read_csv(confirmed_raw_url)\n",
    "deaths_df_raw = pd.read_csv(deaths_raw_url)\n",
    "recovered_df_raw = pd.read_csv(recovered_raw_url)"
   ]
  },
  {
   "cell_type": "code",
   "execution_count": 2,
   "metadata": {},
   "outputs": [],
   "source": [
    "latest_date = confirmed_df_raw.columns[-1]\n",
    "\n",
    "confirmed_df_raw = confirmed_df_raw.drop(['Province/State', 'Lat', 'Long'], axis = 1) \n",
    "total_confirmed = confirmed_df_raw.groupby('Country/Region', as_index = False).agg(sum).sort_values(latest_date, ascending = False)\n",
    "total_confirmed = pd.melt(total_confirmed, id_vars = 'Country/Region', var_name='Dates', value_name='Confirmed')\n",
    "total_confirmed['Dates']= pd.to_datetime(total_confirmed['Dates']) \n",
    "\n",
    "deaths_df_raw = deaths_df_raw.drop(['Province/State', 'Lat', 'Long'], axis = 1) \n",
    "total_deaths = deaths_df_raw.groupby('Country/Region', as_index = False).agg(sum).sort_values(latest_date, ascending = False)\n",
    "total_deaths = pd.melt(total_deaths, id_vars = 'Country/Region', var_name='Dates', value_name='Deaths')\n",
    "total_deaths['Dates']= pd.to_datetime(total_deaths['Dates']) \n",
    "\n",
    "recovered_df_raw = recovered_df_raw.drop(['Province/State', 'Lat', 'Long'], axis = 1) \n",
    "total_recovered = recovered_df_raw.groupby('Country/Region', as_index = False).agg(sum).sort_values(latest_date, ascending = False)\n",
    "total_recovered = pd.melt(total_recovered, id_vars = 'Country/Region', var_name='Dates', value_name='Recovered')\n",
    "total_recovered['Dates']= pd.to_datetime(total_recovered['Dates']) "
   ]
  },
  {
   "cell_type": "code",
   "execution_count": 3,
   "metadata": {},
   "outputs": [],
   "source": [
    "from bokeh.models import ColumnDataSource\n",
    "\n",
    "def get_country_datasource(_country):\n",
    "    mask_confirmed = total_confirmed['Country/Region'] == _country\n",
    "    mask_death = total_deaths['Country/Region'] == _country\n",
    "    mask_recovered = total_recovered['Country/Region'] == _country\n",
    "    \n",
    "    _confirmed = total_confirmed[mask_confirmed].reset_index()\n",
    "    _deaths = total_deaths[mask_death].reset_index()\n",
    "    _recovered = total_recovered[mask_recovered].reset_index()\n",
    "    \n",
    "    _confirmed['Deaths'] = _deaths['Deaths']\n",
    "    _confirmed['Recovered'] = _recovered['Recovered']\n",
    "\n",
    "    _confirmed['Active'] = _confirmed['Confirmed'] - _confirmed['Deaths'] - _confirmed['Recovered']\n",
    "    \n",
    "    _confirmed = ColumnDataSource(_confirmed)\n",
    "    \n",
    "    return _confirmed"
   ]
  },
  {
   "cell_type": "code",
   "execution_count": 4,
   "metadata": {},
   "outputs": [],
   "source": [
    "from bokeh.plotting import figure, output_file, show, save\n",
    "from bokeh.models.tools import HoverTool\n",
    "from ipykernel import kernelapp as app\n",
    "\n",
    "country = \"China\"\n",
    "\n",
    "confirmed = get_country_datasource(country)\n",
    "\n",
    "output_file('line.html')\n",
    "p = figure(title=country, x_axis_label='Date', y_axis_label='Count', \n",
    "           x_axis_type='datetime', plot_width=800, plot_height=500)\n",
    "p.line(x='Dates', y='Confirmed', source=confirmed, color='black', line_width=3, legend=\"Confirmed Cases\")\n",
    "p.line(x='Dates', y='Deaths', source=confirmed, color='red', line_width=3, legend=\"Confirmed Deaths\")\n",
    "p.line(x='Dates', y='Recovered', source=confirmed, color='green', line_width=3, legend=\"Recoveries\")\n",
    "\n",
    "hover = HoverTool()\n",
    "hover.tooltips=[('Confirmed', '@Confirmed'), ('Deaths', '@Deaths'), ('Recoveries', '@Recovered')]\n",
    "\n",
    "p.add_tools(hover)\n",
    "p.legend.location = 'top_left'\n",
    "\n",
    "show(p)"
   ]
  }
 ],
 "metadata": {
  "kernelspec": {
   "display_name": "Python 3.7.4 64-bit ('base': conda)",
   "language": "python",
   "name": "python37464bitbaseconda3f0d6be5914d434a9d7014ecd996a3a3"
  },
  "language_info": {
   "codemirror_mode": {
    "name": "ipython",
    "version": 3
   },
   "file_extension": ".py",
   "mimetype": "text/x-python",
   "name": "python",
   "nbconvert_exporter": "python",
   "pygments_lexer": "ipython3",
   "version": "3.7.4"
  }
 },
 "nbformat": 4,
 "nbformat_minor": 2
}
